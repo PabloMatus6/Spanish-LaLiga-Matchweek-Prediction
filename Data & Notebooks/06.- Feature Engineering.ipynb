{
 "cells": [
  {
   "cell_type": "code",
   "execution_count": 2,
   "metadata": {},
   "outputs": [],
   "source": [
    "import pandas as pd \n",
    "import seaborn as sns\n",
    "import matplotlib.pyplot as plt \n"
   ]
  },
  {
   "cell_type": "markdown",
   "metadata": {},
   "source": [
    "We go back to the data we saved in notebook 05, as it contains the same information as in plotting data and also some str type columns that we could not plot but from which we could extract information during the feature engineering."
   ]
  },
  {
   "cell_type": "code",
   "execution_count": 24,
   "metadata": {},
   "outputs": [
    {
     "data": {
      "text/html": [
       "<div>\n",
       "<style scoped>\n",
       "    .dataframe tbody tr th:only-of-type {\n",
       "        vertical-align: middle;\n",
       "    }\n",
       "\n",
       "    .dataframe tbody tr th {\n",
       "        vertical-align: top;\n",
       "    }\n",
       "\n",
       "    .dataframe thead th {\n",
       "        text-align: right;\n",
       "    }\n",
       "</style>\n",
       "<table border=\"1\" class=\"dataframe\">\n",
       "  <thead>\n",
       "    <tr style=\"text-align: right;\">\n",
       "      <th></th>\n",
       "      <th>match_id</th>\n",
       "      <th>year</th>\n",
       "      <th>round</th>\n",
       "      <th>local</th>\n",
       "      <th>visitor</th>\n",
       "      <th>league_id</th>\n",
       "      <th>team1_id_season</th>\n",
       "      <th>team2_id_season</th>\n",
       "      <th>team1_id</th>\n",
       "      <th>team2_id</th>\n",
       "      <th>...</th>\n",
       "      <th>points_visitor</th>\n",
       "      <th>wins_visitor</th>\n",
       "      <th>draws_visitor</th>\n",
       "      <th>losses_visitor</th>\n",
       "      <th>gf_visitor</th>\n",
       "      <th>ga_visitor</th>\n",
       "      <th>avg_visitor</th>\n",
       "      <th>pos_visitor</th>\n",
       "      <th>form_visitor</th>\n",
       "      <th>match_winner</th>\n",
       "    </tr>\n",
       "  </thead>\n",
       "  <tbody>\n",
       "    <tr>\n",
       "      <th>4657</th>\n",
       "      <td>91110</td>\n",
       "      <td>2021</td>\n",
       "      <td>38</td>\n",
       "      <td>Real Oviedo</td>\n",
       "      <td>Sabadell</td>\n",
       "      <td>57314</td>\n",
       "      <td>6382799</td>\n",
       "      <td>6382802</td>\n",
       "      <td>2115</td>\n",
       "      <td>2198</td>\n",
       "      <td>...</td>\n",
       "      <td>40</td>\n",
       "      <td>9.0</td>\n",
       "      <td>13.0</td>\n",
       "      <td>15.0</td>\n",
       "      <td>35</td>\n",
       "      <td>42</td>\n",
       "      <td>-7.0</td>\n",
       "      <td>19</td>\n",
       "      <td>lddww</td>\n",
       "      <td>0</td>\n",
       "    </tr>\n",
       "    <tr>\n",
       "      <th>4658</th>\n",
       "      <td>91104</td>\n",
       "      <td>2021</td>\n",
       "      <td>38</td>\n",
       "      <td>FC Cartagena</td>\n",
       "      <td>CD Castellón</td>\n",
       "      <td>57314</td>\n",
       "      <td>6382787</td>\n",
       "      <td>6382788</td>\n",
       "      <td>643</td>\n",
       "      <td>673</td>\n",
       "      <td>...</td>\n",
       "      <td>41</td>\n",
       "      <td>11.0</td>\n",
       "      <td>8.0</td>\n",
       "      <td>18.0</td>\n",
       "      <td>35</td>\n",
       "      <td>43</td>\n",
       "      <td>-8.0</td>\n",
       "      <td>18</td>\n",
       "      <td>wlwdd</td>\n",
       "      <td>0</td>\n",
       "    </tr>\n",
       "    <tr>\n",
       "      <th>4659</th>\n",
       "      <td>91112</td>\n",
       "      <td>2021</td>\n",
       "      <td>38</td>\n",
       "      <td>UD Logroñés</td>\n",
       "      <td>Girona</td>\n",
       "      <td>57314</td>\n",
       "      <td>6382792</td>\n",
       "      <td>6391868</td>\n",
       "      <td>1578</td>\n",
       "      <td>1236</td>\n",
       "      <td>...</td>\n",
       "      <td>58</td>\n",
       "      <td>16.0</td>\n",
       "      <td>10.0</td>\n",
       "      <td>11.0</td>\n",
       "      <td>39</td>\n",
       "      <td>34</td>\n",
       "      <td>5.0</td>\n",
       "      <td>6</td>\n",
       "      <td>wlwww</td>\n",
       "      <td>2</td>\n",
       "    </tr>\n",
       "    <tr>\n",
       "      <th>4660</th>\n",
       "      <td>91109</td>\n",
       "      <td>2021</td>\n",
       "      <td>38</td>\n",
       "      <td>Rayo Vallecano</td>\n",
       "      <td>Leganés</td>\n",
       "      <td>57314</td>\n",
       "      <td>6382798</td>\n",
       "      <td>6382791</td>\n",
       "      <td>2080</td>\n",
       "      <td>1535</td>\n",
       "      <td>...</td>\n",
       "      <td>62</td>\n",
       "      <td>18.0</td>\n",
       "      <td>8.0</td>\n",
       "      <td>11.0</td>\n",
       "      <td>41</td>\n",
       "      <td>31</td>\n",
       "      <td>10.0</td>\n",
       "      <td>4</td>\n",
       "      <td>wldwd</td>\n",
       "      <td>1</td>\n",
       "    </tr>\n",
       "    <tr>\n",
       "      <th>4661</th>\n",
       "      <td>91105</td>\n",
       "      <td>2021</td>\n",
       "      <td>38</td>\n",
       "      <td>Real Sporting</td>\n",
       "      <td>Lugo</td>\n",
       "      <td>57314</td>\n",
       "      <td>6382800</td>\n",
       "      <td>6382793</td>\n",
       "      <td>2125</td>\n",
       "      <td>1598</td>\n",
       "      <td>...</td>\n",
       "      <td>37</td>\n",
       "      <td>8.0</td>\n",
       "      <td>13.0</td>\n",
       "      <td>16.0</td>\n",
       "      <td>32</td>\n",
       "      <td>49</td>\n",
       "      <td>-17.0</td>\n",
       "      <td>21</td>\n",
       "      <td>lllld</td>\n",
       "      <td>0</td>\n",
       "    </tr>\n",
       "  </tbody>\n",
       "</table>\n",
       "<p>5 rows × 36 columns</p>\n",
       "</div>"
      ],
      "text/plain": [
       "      match_id  year  round           local       visitor  league_id  \\\n",
       "4657     91110  2021     38     Real Oviedo      Sabadell      57314   \n",
       "4658     91104  2021     38    FC Cartagena  CD Castellón      57314   \n",
       "4659     91112  2021     38     UD Logroñés        Girona      57314   \n",
       "4660     91109  2021     38  Rayo Vallecano       Leganés      57314   \n",
       "4661     91105  2021     38   Real Sporting          Lugo      57314   \n",
       "\n",
       "      team1_id_season  team2_id_season  team1_id  team2_id  ...  \\\n",
       "4657          6382799          6382802      2115      2198  ...   \n",
       "4658          6382787          6382788       643       673  ...   \n",
       "4659          6382792          6391868      1578      1236  ...   \n",
       "4660          6382798          6382791      2080      1535  ...   \n",
       "4661          6382800          6382793      2125      1598  ...   \n",
       "\n",
       "     points_visitor wins_visitor  draws_visitor  losses_visitor  gf_visitor  \\\n",
       "4657             40          9.0           13.0            15.0          35   \n",
       "4658             41         11.0            8.0            18.0          35   \n",
       "4659             58         16.0           10.0            11.0          39   \n",
       "4660             62         18.0            8.0            11.0          41   \n",
       "4661             37          8.0           13.0            16.0          32   \n",
       "\n",
       "     ga_visitor  avg_visitor  pos_visitor  form_visitor  match_winner  \n",
       "4657         42         -7.0           19         lddww             0  \n",
       "4658         43         -8.0           18         wlwdd             0  \n",
       "4659         34          5.0            6         wlwww             2  \n",
       "4660         31         10.0            4         wldwd             1  \n",
       "4661         49        -17.0           21         lllld             0  \n",
       "\n",
       "[5 rows x 36 columns]"
      ]
     },
     "execution_count": 24,
     "metadata": {},
     "output_type": "execute_result"
    }
   ],
   "source": [
    "df = pd.read_csv('Cleaned Data', index_col = [0])\n",
    "df.tail(5)"
   ]
  },
  {
   "cell_type": "code",
   "execution_count": 25,
   "metadata": {},
   "outputs": [
    {
     "data": {
      "text/plain": [
       "Index(['match_id', 'year', 'round', 'local', 'visitor', 'league_id',\n",
       "       'team1_id_season', 'team2_id_season', 'team1_id', 'team2_id',\n",
       "       'local_abbr', 'visitor_abbr', 'division', 'local_goals',\n",
       "       'visitor_goals', 'result', 'winner', 'points_local', 'wins_local',\n",
       "       'draws_local', 'losses_local', 'gf_local', 'ga_local', 'avg_local',\n",
       "       'pos_local', 'form_local', 'points_visitor', 'wins_visitor',\n",
       "       'draws_visitor', 'losses_visitor', 'gf_visitor', 'ga_visitor',\n",
       "       'avg_visitor', 'pos_visitor', 'form_visitor', 'match_winner'],\n",
       "      dtype='object')"
      ]
     },
     "execution_count": 25,
     "metadata": {},
     "output_type": "execute_result"
    }
   ],
   "source": [
    "df.columns"
   ]
  },
  {
   "cell_type": "code",
   "execution_count": 26,
   "metadata": {},
   "outputs": [
    {
     "data": {
      "text/plain": [
       "0       d\n",
       "1       d\n",
       "2       w\n",
       "3       w\n",
       "4       d\n",
       "       ..\n",
       "4657    l\n",
       "4658    w\n",
       "4659    w\n",
       "4660    w\n",
       "4661    l\n",
       "Name: round-1_local, Length: 4662, dtype: object"
      ]
     },
     "execution_count": 26,
     "metadata": {},
     "output_type": "execute_result"
    }
   ],
   "source": [
    "df['round-1_local'] = df['form_local'].apply(lambda x: x[0])\n",
    "df['round-1_local']"
   ]
  },
  {
   "cell_type": "code",
   "execution_count": 56,
   "metadata": {},
   "outputs": [
    {
     "data": {
      "text/plain": [
       "0       w\n",
       "1       d\n",
       "2       d\n",
       "3       d\n",
       "4       d\n",
       "       ..\n",
       "4657    l\n",
       "4658    w\n",
       "4659    w\n",
       "4660    w\n",
       "4661    l\n",
       "Name: round-1_visitor, Length: 4662, dtype: object"
      ]
     },
     "execution_count": 56,
     "metadata": {},
     "output_type": "execute_result"
    }
   ],
   "source": [
    "df['round-1_visitor'] = df['form_visitor'].apply(lambda x: x[0])\n",
    "df['round-1_visitor']"
   ]
  },
  {
   "cell_type": "code",
   "execution_count": 31,
   "metadata": {},
   "outputs": [
    {
     "data": {
      "text/plain": [
       "0    d\n",
       "1    d\n",
       "2    w\n",
       "3    w\n",
       "4    d\n",
       "Name: form_local, dtype: object"
      ]
     },
     "execution_count": 31,
     "metadata": {},
     "output_type": "execute_result"
    }
   ],
   "source": [
    "df['form_local'].head(5)"
   ]
  },
  {
   "cell_type": "markdown",
   "metadata": {},
   "source": [
    "In order to extract information of previous rounds from columns 'form_local' & 'form_visitor' is necessary to put into the same length the strings from each row in this colums."
   ]
  },
  {
   "cell_type": "code",
   "execution_count": 54,
   "metadata": {},
   "outputs": [
    {
     "data": {
      "text/plain": [
       "0       d0000\n",
       "1       d0000\n",
       "2       w0000\n",
       "3       w0000\n",
       "4       d0000\n",
       "        ...  \n",
       "4657    ldwld\n",
       "4658    wddwl\n",
       "4659    wwdld\n",
       "4660    wlddl\n",
       "4661    llldd\n",
       "Name: form_local, Length: 4662, dtype: object"
      ]
     },
     "execution_count": 54,
     "metadata": {},
     "output_type": "execute_result"
    }
   ],
   "source": [
    "max_length = df.form_local.map(len).max()\n",
    "df.form_local = df.form_local.apply(lambda x: x + '0'*(max_length - len(x)))\n",
    "df['form_local']"
   ]
  },
  {
   "cell_type": "code",
   "execution_count": 55,
   "metadata": {},
   "outputs": [
    {
     "data": {
      "text/plain": [
       "0       w0000\n",
       "1       d0000\n",
       "2       d0000\n",
       "3       d0000\n",
       "4       d0000\n",
       "        ...  \n",
       "4657    lddww\n",
       "4658    wlwdd\n",
       "4659    wlwww\n",
       "4660    wldwd\n",
       "4661    lllld\n",
       "Name: form_visitor, Length: 4662, dtype: object"
      ]
     },
     "execution_count": 55,
     "metadata": {},
     "output_type": "execute_result"
    }
   ],
   "source": [
    "df.form_visitor = df.form_visitor.apply(lambda x: x + '0'*(max_length - len(x)))\n",
    "df['form_visitor']"
   ]
  },
  {
   "cell_type": "markdown",
   "metadata": {},
   "source": [
    "We create new columns assigning points to the home and away teams according to their results in the last matches. In order not to confuse the model, when we do not have information about the result of the round in question (this happens in the first rounds), we will assign an indicative value to the coefficient, different from 0, 1 and 3, so as not to confuse the lack of information with wins, draws or defeats."
   ]
  },
  {
   "cell_type": "code",
   "execution_count": 59,
   "metadata": {},
   "outputs": [
    {
     "data": {
      "text/plain": [
       "0    0\n",
       "1    0\n",
       "2    0\n",
       "3    0\n",
       "4    0\n",
       "Name: round-2_local, dtype: int64"
      ]
     },
     "execution_count": 59,
     "metadata": {},
     "output_type": "execute_result"
    }
   ],
   "source": [
    "def prev2roundlocal(col):\n",
    "    if col['form_local'][1] == '0':\n",
    "        return 0\n",
    "    if col['form_local'][1] == 'w':\n",
    "        return 3\n",
    "    if col['form_local'][1] == 'd':\n",
    "        return 1\n",
    "    if col['form_local'][1] == 'l':\n",
    "        return 0\n",
    "\n",
    "df['round-2_local'] = df.apply(lambda col: prev2roundlocal (col),axis=1)\n",
    "df['round-2_local'].head()"
   ]
  },
  {
   "cell_type": "code",
   "execution_count": null,
   "metadata": {},
   "outputs": [],
   "source": [
    "def prev2roundvisitor(col):\n",
    "    if col['form_visitor'][1] == '0':\n",
    "        return 0\n",
    "    if col['form_visitor'][1] == 'w':\n",
    "        return 3\n",
    "    if col['form_visitor'][1] == 'd':\n",
    "        return 1\n",
    "    if col['form_visitor'][1] == 'l':\n",
    "        return 0\n",
    "\n",
    "df['round-2_local'] = df.apply(lambda col: prev2roundlocal (col),axis=1)\n",
    "df['round-2_local'].head()"
   ]
  },
  {
   "cell_type": "code",
   "execution_count": null,
   "metadata": {},
   "outputs": [],
   "source": []
  },
  {
   "cell_type": "code",
   "execution_count": null,
   "metadata": {},
   "outputs": [],
   "source": []
  },
  {
   "cell_type": "code",
   "execution_count": null,
   "metadata": {},
   "outputs": [],
   "source": []
  },
  {
   "cell_type": "code",
   "execution_count": null,
   "metadata": {},
   "outputs": [],
   "source": []
  },
  {
   "cell_type": "code",
   "execution_count": null,
   "metadata": {},
   "outputs": [],
   "source": []
  },
  {
   "cell_type": "code",
   "execution_count": null,
   "metadata": {},
   "outputs": [],
   "source": []
  },
  {
   "cell_type": "code",
   "execution_count": null,
   "metadata": {},
   "outputs": [],
   "source": []
  },
  {
   "cell_type": "code",
   "execution_count": null,
   "metadata": {},
   "outputs": [],
   "source": []
  },
  {
   "cell_type": "code",
   "execution_count": null,
   "metadata": {},
   "outputs": [],
   "source": []
  },
  {
   "cell_type": "code",
   "execution_count": null,
   "metadata": {},
   "outputs": [],
   "source": []
  },
  {
   "cell_type": "code",
   "execution_count": null,
   "metadata": {},
   "outputs": [],
   "source": []
  },
  {
   "cell_type": "code",
   "execution_count": null,
   "metadata": {},
   "outputs": [],
   "source": []
  },
  {
   "cell_type": "code",
   "execution_count": null,
   "metadata": {},
   "outputs": [],
   "source": []
  },
  {
   "cell_type": "code",
   "execution_count": null,
   "metadata": {},
   "outputs": [],
   "source": []
  },
  {
   "cell_type": "code",
   "execution_count": null,
   "metadata": {},
   "outputs": [],
   "source": []
  },
  {
   "cell_type": "code",
   "execution_count": null,
   "metadata": {},
   "outputs": [],
   "source": []
  },
  {
   "cell_type": "code",
   "execution_count": null,
   "metadata": {},
   "outputs": [],
   "source": []
  },
  {
   "cell_type": "code",
   "execution_count": null,
   "metadata": {},
   "outputs": [],
   "source": []
  },
  {
   "cell_type": "code",
   "execution_count": null,
   "metadata": {},
   "outputs": [],
   "source": []
  },
  {
   "cell_type": "code",
   "execution_count": null,
   "metadata": {},
   "outputs": [],
   "source": []
  },
  {
   "cell_type": "code",
   "execution_count": null,
   "metadata": {},
   "outputs": [],
   "source": []
  },
  {
   "cell_type": "code",
   "execution_count": null,
   "metadata": {},
   "outputs": [],
   "source": []
  },
  {
   "cell_type": "code",
   "execution_count": null,
   "metadata": {},
   "outputs": [],
   "source": []
  },
  {
   "cell_type": "code",
   "execution_count": null,
   "metadata": {},
   "outputs": [],
   "source": []
  },
  {
   "cell_type": "code",
   "execution_count": null,
   "metadata": {},
   "outputs": [],
   "source": []
  },
  {
   "cell_type": "code",
   "execution_count": 18,
   "metadata": {},
   "outputs": [
    {
     "ename": "IndexError",
     "evalue": "string index out of range",
     "output_type": "error",
     "traceback": [
      "\u001b[1;31m---------------------------------------------------------------------------\u001b[0m",
      "\u001b[1;31mIndexError\u001b[0m                                Traceback (most recent call last)",
      "\u001b[1;32m<ipython-input-18-769fdaeb22c3>\u001b[0m in \u001b[0;36m<module>\u001b[1;34m\u001b[0m\n\u001b[1;32m----> 1\u001b[1;33m \u001b[0mdf\u001b[0m\u001b[1;33m[\u001b[0m\u001b[1;34m'round-2_local'\u001b[0m\u001b[1;33m]\u001b[0m \u001b[1;33m=\u001b[0m \u001b[0mdf\u001b[0m\u001b[1;33m[\u001b[0m\u001b[1;34m'form_local'\u001b[0m\u001b[1;33m]\u001b[0m\u001b[1;33m.\u001b[0m\u001b[0mapply\u001b[0m\u001b[1;33m(\u001b[0m\u001b[1;32mlambda\u001b[0m \u001b[0mx\u001b[0m\u001b[1;33m:\u001b[0m \u001b[0mx\u001b[0m\u001b[1;33m[\u001b[0m\u001b[1;36m1\u001b[0m\u001b[1;33m]\u001b[0m\u001b[1;33m)\u001b[0m\u001b[1;33m\u001b[0m\u001b[1;33m\u001b[0m\u001b[0m\n\u001b[0m\u001b[0;32m      2\u001b[0m \u001b[0mdf\u001b[0m\u001b[1;33m[\u001b[0m\u001b[1;34m'round-3__local'\u001b[0m\u001b[1;33m]\u001b[0m \u001b[1;33m=\u001b[0m \u001b[0mdf\u001b[0m\u001b[1;33m[\u001b[0m\u001b[1;34m'form_local'\u001b[0m\u001b[1;33m]\u001b[0m\u001b[1;33m.\u001b[0m\u001b[0mapply\u001b[0m\u001b[1;33m(\u001b[0m\u001b[1;32mlambda\u001b[0m \u001b[0mx\u001b[0m\u001b[1;33m:\u001b[0m \u001b[0mx\u001b[0m\u001b[1;33m[\u001b[0m\u001b[1;36m2\u001b[0m\u001b[1;33m]\u001b[0m\u001b[1;33m)\u001b[0m\u001b[1;33m\u001b[0m\u001b[1;33m\u001b[0m\u001b[0m\n\u001b[0;32m      3\u001b[0m \u001b[0mdf\u001b[0m\u001b[1;33m[\u001b[0m\u001b[1;34m'round-4__local'\u001b[0m\u001b[1;33m]\u001b[0m \u001b[1;33m=\u001b[0m \u001b[0mdf\u001b[0m\u001b[1;33m[\u001b[0m\u001b[1;34m'form_local'\u001b[0m\u001b[1;33m]\u001b[0m\u001b[1;33m.\u001b[0m\u001b[0mapply\u001b[0m\u001b[1;33m(\u001b[0m\u001b[1;32mlambda\u001b[0m \u001b[0mx\u001b[0m\u001b[1;33m:\u001b[0m \u001b[0mx\u001b[0m\u001b[1;33m[\u001b[0m\u001b[1;36m3\u001b[0m\u001b[1;33m]\u001b[0m\u001b[1;33m)\u001b[0m\u001b[1;33m\u001b[0m\u001b[1;33m\u001b[0m\u001b[0m\n\u001b[0;32m      4\u001b[0m \u001b[0mdf\u001b[0m\u001b[1;33m[\u001b[0m\u001b[1;34m'round-5__local'\u001b[0m\u001b[1;33m]\u001b[0m \u001b[1;33m=\u001b[0m \u001b[0mdf\u001b[0m\u001b[1;33m[\u001b[0m\u001b[1;34m'form_local'\u001b[0m\u001b[1;33m]\u001b[0m\u001b[1;33m.\u001b[0m\u001b[0mapply\u001b[0m\u001b[1;33m(\u001b[0m\u001b[1;32mlambda\u001b[0m \u001b[0mx\u001b[0m\u001b[1;33m:\u001b[0m \u001b[0mx\u001b[0m\u001b[1;33m[\u001b[0m\u001b[1;36m4\u001b[0m\u001b[1;33m]\u001b[0m\u001b[1;33m)\u001b[0m\u001b[1;33m\u001b[0m\u001b[1;33m\u001b[0m\u001b[0m\n\u001b[0;32m      5\u001b[0m \u001b[0mdf\u001b[0m\u001b[1;33m[\u001b[0m\u001b[1;34m'round-1_visitor'\u001b[0m\u001b[1;33m]\u001b[0m \u001b[1;33m=\u001b[0m \u001b[0mdf\u001b[0m\u001b[1;33m[\u001b[0m\u001b[1;34m'form_visitor'\u001b[0m\u001b[1;33m]\u001b[0m\u001b[1;33m.\u001b[0m\u001b[0mapply\u001b[0m\u001b[1;33m(\u001b[0m\u001b[1;32mlambda\u001b[0m \u001b[0mx\u001b[0m\u001b[1;33m:\u001b[0m \u001b[0mx\u001b[0m\u001b[1;33m[\u001b[0m\u001b[1;36m0\u001b[0m\u001b[1;33m]\u001b[0m\u001b[1;33m)\u001b[0m\u001b[1;33m\u001b[0m\u001b[1;33m\u001b[0m\u001b[0m\n",
      "\u001b[1;32m~\\anaconda3\\lib\\site-packages\\pandas\\core\\series.py\u001b[0m in \u001b[0;36mapply\u001b[1;34m(self, func, convert_dtype, args, **kwds)\u001b[0m\n\u001b[0;32m   3846\u001b[0m             \u001b[1;32melse\u001b[0m\u001b[1;33m:\u001b[0m\u001b[1;33m\u001b[0m\u001b[1;33m\u001b[0m\u001b[0m\n\u001b[0;32m   3847\u001b[0m                 \u001b[0mvalues\u001b[0m \u001b[1;33m=\u001b[0m \u001b[0mself\u001b[0m\u001b[1;33m.\u001b[0m\u001b[0mastype\u001b[0m\u001b[1;33m(\u001b[0m\u001b[0mobject\u001b[0m\u001b[1;33m)\u001b[0m\u001b[1;33m.\u001b[0m\u001b[0mvalues\u001b[0m\u001b[1;33m\u001b[0m\u001b[1;33m\u001b[0m\u001b[0m\n\u001b[1;32m-> 3848\u001b[1;33m                 \u001b[0mmapped\u001b[0m \u001b[1;33m=\u001b[0m \u001b[0mlib\u001b[0m\u001b[1;33m.\u001b[0m\u001b[0mmap_infer\u001b[0m\u001b[1;33m(\u001b[0m\u001b[0mvalues\u001b[0m\u001b[1;33m,\u001b[0m \u001b[0mf\u001b[0m\u001b[1;33m,\u001b[0m \u001b[0mconvert\u001b[0m\u001b[1;33m=\u001b[0m\u001b[0mconvert_dtype\u001b[0m\u001b[1;33m)\u001b[0m\u001b[1;33m\u001b[0m\u001b[1;33m\u001b[0m\u001b[0m\n\u001b[0m\u001b[0;32m   3849\u001b[0m \u001b[1;33m\u001b[0m\u001b[0m\n\u001b[0;32m   3850\u001b[0m         \u001b[1;32mif\u001b[0m \u001b[0mlen\u001b[0m\u001b[1;33m(\u001b[0m\u001b[0mmapped\u001b[0m\u001b[1;33m)\u001b[0m \u001b[1;32mand\u001b[0m \u001b[0misinstance\u001b[0m\u001b[1;33m(\u001b[0m\u001b[0mmapped\u001b[0m\u001b[1;33m[\u001b[0m\u001b[1;36m0\u001b[0m\u001b[1;33m]\u001b[0m\u001b[1;33m,\u001b[0m \u001b[0mSeries\u001b[0m\u001b[1;33m)\u001b[0m\u001b[1;33m:\u001b[0m\u001b[1;33m\u001b[0m\u001b[1;33m\u001b[0m\u001b[0m\n",
      "\u001b[1;32mpandas\\_libs\\lib.pyx\u001b[0m in \u001b[0;36mpandas._libs.lib.map_infer\u001b[1;34m()\u001b[0m\n",
      "\u001b[1;32m<ipython-input-18-769fdaeb22c3>\u001b[0m in \u001b[0;36m<lambda>\u001b[1;34m(x)\u001b[0m\n\u001b[1;32m----> 1\u001b[1;33m \u001b[0mdf\u001b[0m\u001b[1;33m[\u001b[0m\u001b[1;34m'round-2_local'\u001b[0m\u001b[1;33m]\u001b[0m \u001b[1;33m=\u001b[0m \u001b[0mdf\u001b[0m\u001b[1;33m[\u001b[0m\u001b[1;34m'form_local'\u001b[0m\u001b[1;33m]\u001b[0m\u001b[1;33m.\u001b[0m\u001b[0mapply\u001b[0m\u001b[1;33m(\u001b[0m\u001b[1;32mlambda\u001b[0m \u001b[0mx\u001b[0m\u001b[1;33m:\u001b[0m \u001b[0mx\u001b[0m\u001b[1;33m[\u001b[0m\u001b[1;36m1\u001b[0m\u001b[1;33m]\u001b[0m\u001b[1;33m)\u001b[0m\u001b[1;33m\u001b[0m\u001b[1;33m\u001b[0m\u001b[0m\n\u001b[0m\u001b[0;32m      2\u001b[0m \u001b[0mdf\u001b[0m\u001b[1;33m[\u001b[0m\u001b[1;34m'round-3__local'\u001b[0m\u001b[1;33m]\u001b[0m \u001b[1;33m=\u001b[0m \u001b[0mdf\u001b[0m\u001b[1;33m[\u001b[0m\u001b[1;34m'form_local'\u001b[0m\u001b[1;33m]\u001b[0m\u001b[1;33m.\u001b[0m\u001b[0mapply\u001b[0m\u001b[1;33m(\u001b[0m\u001b[1;32mlambda\u001b[0m \u001b[0mx\u001b[0m\u001b[1;33m:\u001b[0m \u001b[0mx\u001b[0m\u001b[1;33m[\u001b[0m\u001b[1;36m2\u001b[0m\u001b[1;33m]\u001b[0m\u001b[1;33m)\u001b[0m\u001b[1;33m\u001b[0m\u001b[1;33m\u001b[0m\u001b[0m\n\u001b[0;32m      3\u001b[0m \u001b[0mdf\u001b[0m\u001b[1;33m[\u001b[0m\u001b[1;34m'round-4__local'\u001b[0m\u001b[1;33m]\u001b[0m \u001b[1;33m=\u001b[0m \u001b[0mdf\u001b[0m\u001b[1;33m[\u001b[0m\u001b[1;34m'form_local'\u001b[0m\u001b[1;33m]\u001b[0m\u001b[1;33m.\u001b[0m\u001b[0mapply\u001b[0m\u001b[1;33m(\u001b[0m\u001b[1;32mlambda\u001b[0m \u001b[0mx\u001b[0m\u001b[1;33m:\u001b[0m \u001b[0mx\u001b[0m\u001b[1;33m[\u001b[0m\u001b[1;36m3\u001b[0m\u001b[1;33m]\u001b[0m\u001b[1;33m)\u001b[0m\u001b[1;33m\u001b[0m\u001b[1;33m\u001b[0m\u001b[0m\n\u001b[0;32m      4\u001b[0m \u001b[0mdf\u001b[0m\u001b[1;33m[\u001b[0m\u001b[1;34m'round-5__local'\u001b[0m\u001b[1;33m]\u001b[0m \u001b[1;33m=\u001b[0m \u001b[0mdf\u001b[0m\u001b[1;33m[\u001b[0m\u001b[1;34m'form_local'\u001b[0m\u001b[1;33m]\u001b[0m\u001b[1;33m.\u001b[0m\u001b[0mapply\u001b[0m\u001b[1;33m(\u001b[0m\u001b[1;32mlambda\u001b[0m \u001b[0mx\u001b[0m\u001b[1;33m:\u001b[0m \u001b[0mx\u001b[0m\u001b[1;33m[\u001b[0m\u001b[1;36m4\u001b[0m\u001b[1;33m]\u001b[0m\u001b[1;33m)\u001b[0m\u001b[1;33m\u001b[0m\u001b[1;33m\u001b[0m\u001b[0m\n\u001b[0;32m      5\u001b[0m \u001b[0mdf\u001b[0m\u001b[1;33m[\u001b[0m\u001b[1;34m'round-1_visitor'\u001b[0m\u001b[1;33m]\u001b[0m \u001b[1;33m=\u001b[0m \u001b[0mdf\u001b[0m\u001b[1;33m[\u001b[0m\u001b[1;34m'form_visitor'\u001b[0m\u001b[1;33m]\u001b[0m\u001b[1;33m.\u001b[0m\u001b[0mapply\u001b[0m\u001b[1;33m(\u001b[0m\u001b[1;32mlambda\u001b[0m \u001b[0mx\u001b[0m\u001b[1;33m:\u001b[0m \u001b[0mx\u001b[0m\u001b[1;33m[\u001b[0m\u001b[1;36m0\u001b[0m\u001b[1;33m]\u001b[0m\u001b[1;33m)\u001b[0m\u001b[1;33m\u001b[0m\u001b[1;33m\u001b[0m\u001b[0m\n",
      "\u001b[1;31mIndexError\u001b[0m: string index out of range"
     ]
    }
   ],
   "source": [
    "df['round-2_local'] = df['form_local'].apply(lambda x: x[1])\n",
    "df['round-3__local'] = df['form_local'].apply(lambda x: x[2])\n",
    "df['round-4__local'] = df['form_local'].apply(lambda x: x[3])\n",
    "df['round-5__local'] = df['form_local'].apply(lambda x: x[4])\n",
    "df['round-1_visitor'] = df['form_visitor'].apply(lambda x: x[0])\n",
    "df['round-2_visitor'] = df['form_visitor'].apply(lambda x: x[1])\n",
    "df['round-3_visitor'] = df['form_visitor'].apply(lambda x: x[2])\n",
    "df['round-4_visitor'] = df['form_visitor'].apply(lambda x: x[3])\n",
    "df['round-5_visitor'] = df['form_visitor'].apply(lambda x: x[4])"
   ]
  },
  {
   "cell_type": "code",
   "execution_count": null,
   "metadata": {},
   "outputs": [],
   "source": [
    "df['score_local'] = df['result'].apply(lambda x: x.split(\"-\")[0])\n",
    "df['score_visitor'] = df['result'].apply(lambda x: x.split(\"-\")[1])"
   ]
  }
 ],
 "metadata": {
  "kernelspec": {
   "display_name": "Python 3",
   "language": "python",
   "name": "python3"
  },
  "language_info": {
   "codemirror_mode": {
    "name": "ipython",
    "version": 3
   },
   "file_extension": ".py",
   "mimetype": "text/x-python",
   "name": "python",
   "nbconvert_exporter": "python",
   "pygments_lexer": "ipython3",
   "version": "3.8.3"
  }
 },
 "nbformat": 4,
 "nbformat_minor": 4
}
