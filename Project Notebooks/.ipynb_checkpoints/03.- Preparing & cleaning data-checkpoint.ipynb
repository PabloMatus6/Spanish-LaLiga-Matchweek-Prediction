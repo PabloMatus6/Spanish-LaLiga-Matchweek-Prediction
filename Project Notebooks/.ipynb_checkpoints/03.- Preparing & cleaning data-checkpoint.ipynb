{
 "cells": [
  {
   "cell_type": "code",
   "execution_count": 1,
   "metadata": {},
   "outputs": [],
   "source": [
    "import pandas as pd \n",
    "import numpy as np \n",
    "import os \n",
    "import requests\n",
    "import matplotlib.pyplot as plt "
   ]
  },
  {
   "cell_type": "markdown",
   "metadata": {},
   "source": [
    "## Loading data  "
   ]
  },
  {
   "cell_type": "markdown",
   "metadata": {},
   "source": [
    "Due to the problem with the API requests in the first two notebooks, to replicate this project, you must start running the code from the beginning of this notebook. "
   ]
  },
  {
   "cell_type": "markdown",
   "metadata": {},
   "source": [
    "This file is the replacement of the work done in the first two notebooks. It contains the product of the processing of the data obtained from the API requests in notebook 01 and the merge performed in notebook 02.\n",
    "To get the code for this notebook you must first download the csv file from the following link:\n",
    "\n",
    "https://drive.google.com/file/d/1lZmDYPA-9lzFHU6DSI8XTVaISMUZullL/view?usp=sharing\n",
    "\n",
    "Once downloaded, it must be saved in the same local folder as this notebook in order to automatically run the rest of the code."
   ]
  },
  {
   "cell_type": "markdown",
   "metadata": {},
   "source": [
    "## 0.- Starting running code of the project"
   ]
  },
  {
   "cell_type": "markdown",
   "metadata": {},
   "source": [
    "Although the execution of the project code is started on this notebook, it is advisable to see what has been executed on the first two notebooks. This is important to better understand the content of the data that will be processed when executing the code on this notebook."
   ]
  },
  {
   "cell_type": "markdown",
   "metadata": {},
   "source": [
    "In this notebook the dataset containing both requests (merged_data) will be prepared and cleaned. Unnecessary columns for will be removed, as well as possible duplicate information. Columns will be renamed to give more clarity to the dataframe.\n",
    "\n",
    "When once the dataset is prepared, a column corresponding to the target categorical variable will be created."
   ]
  },
  {
   "cell_type": "code",
   "execution_count": 2,
   "metadata": {},
   "outputs": [],
   "source": [
    "merged_data = pd.read_csv('merged_data', index_col = [0])\n"
   ]
  },
  {
   "cell_type": "markdown",
   "metadata": {},
   "source": [
    "## 1.- Preparing & cleaning"
   ]
  },
  {
   "cell_type": "code",
   "execution_count": 3,
   "metadata": {},
   "outputs": [
    {
     "data": {
      "text/plain": [
       "Index(['match_id', 'year_x', 'round_x', 'local', 'visitor', 'league_id',\n",
       "       'team1_id_season', 'team2_id_season', 'team1_id', 'team2_id',\n",
       "       'local_abbr', 'visitor_abbr', 'division_x', 'local_goals',\n",
       "       'visitor_goals', 'result', 'winner', 'key_local', 'key_visitor', 'id_x',\n",
       "       'team_x', 'points_x', 'wins_x', 'draws_x', 'losses_x', 'gf_x', 'ga_x',\n",
       "       'avg_x', 'round_y', 'pos_x', 'form_x', 'year_y', 'division_y', 'key_x',\n",
       "       'id_y', 'team_y', 'points_y', 'wins_y', 'draws_y', 'losses_y', 'gf_y',\n",
       "       'ga_y', 'avg_y', 'round', 'pos_y', 'form_y', 'year', 'division',\n",
       "       'key_y'],\n",
       "      dtype='object')"
      ]
     },
     "execution_count": 3,
     "metadata": {},
     "output_type": "execute_result"
    }
   ],
   "source": [
    "merged_data.columns"
   ]
  },
  {
   "cell_type": "markdown",
   "metadata": {},
   "source": [
    "When we have all data in one DataFrame, first we will delete some duplicated columns, and after, some others that are not useful anymore(keys, ids, ...)"
   ]
  },
  {
   "cell_type": "code",
   "execution_count": 4,
   "metadata": {},
   "outputs": [
    {
     "data": {
      "text/plain": [
       "10      True\n",
       "11      True\n",
       "12      True\n",
       "13      True\n",
       "14      True\n",
       "        ... \n",
       "4783    True\n",
       "4784    True\n",
       "4785    True\n",
       "4786    True\n",
       "4787    True\n",
       "Length: 4662, dtype: bool"
      ]
     },
     "execution_count": 4,
     "metadata": {},
     "output_type": "execute_result"
    }
   ],
   "source": [
    "merged_data['id_x'] == merged_data['team1_id']"
   ]
  },
  {
   "cell_type": "code",
   "execution_count": 5,
   "metadata": {},
   "outputs": [
    {
     "data": {
      "text/plain": [
       "10      True\n",
       "11      True\n",
       "12      True\n",
       "13      True\n",
       "14      True\n",
       "        ... \n",
       "4783    True\n",
       "4784    True\n",
       "4785    True\n",
       "4786    True\n",
       "4787    True\n",
       "Length: 4662, dtype: bool"
      ]
     },
     "execution_count": 5,
     "metadata": {},
     "output_type": "execute_result"
    }
   ],
   "source": [
    "merged_data['team_x'] == merged_data['local']"
   ]
  },
  {
   "cell_type": "markdown",
   "metadata": {},
   "source": [
    "Columns cannot be deleted all at once because some of them need to be renamed first. They will therefore be deleted in two batches."
   ]
  },
  {
   "cell_type": "code",
   "execution_count": 6,
   "metadata": {},
   "outputs": [
    {
     "data": {
      "text/plain": [
       "Index(['match_id', 'year_x', 'round_x', 'local', 'visitor', 'league_id',\n",
       "       'team1_id_season', 'team2_id_season', 'team1_id', 'team2_id',\n",
       "       'local_abbr', 'visitor_abbr', 'division_x', 'local_goals',\n",
       "       'visitor_goals', 'result', 'winner', 'key_local', 'key_visitor', 'id_x',\n",
       "       'team_x', 'points_local', 'wins_local', 'draws_local', 'losses_local',\n",
       "       'gf_local', 'ga_local', 'avg_local', 'round_y', 'pos_local',\n",
       "       'form_local', 'year_y', 'division_y', 'key_x', 'id_y', 'team_y',\n",
       "       'points_visitor', 'wins_visitor', 'draws_visitor', 'losses_visitor',\n",
       "       'gf_visitor', 'ga_visitor', 'avg_visitor', 'round', 'pos_visitor',\n",
       "       'form_visitor', 'year', 'division', 'key_y'],\n",
       "      dtype='object')"
      ]
     },
     "execution_count": 6,
     "metadata": {},
     "output_type": "execute_result"
    }
   ],
   "source": [
    "merged_data = merged_data.rename(columns={'points_x':'points_local', 'wins_x':'wins_local',\n",
    "        'draws_x':'draws_local', 'losses_x':'losses_local', 'gf_x':'gf_local',\n",
    "        'ga_x':'ga_local','avg_x':'avg_local','pos_x':'pos_local', 'form_x':'form_local', 'points_y':'points_visitor', 'wins_y':'wins_visitor',\n",
    "        'draws_y':'draws_visitor', 'losses_y':'losses_visitor', 'gf_y':'gf_visitor',\n",
    "        'ga_y':'ga_visitor','avg_y':'avg_visitor','pos_y':'pos_visitor', 'form_y':'form_visitor' })\n",
    "merged_data.columns"
   ]
  },
  {
   "cell_type": "code",
   "execution_count": 7,
   "metadata": {
    "scrolled": true
   },
   "outputs": [],
   "source": [
    "merged_data = merged_data.drop(['year','year_y','team_x','team_y','division_y','key_x','key_local','key_visitor','id_y','key_y','id_x','round','round_y', 'division'], axis=1)"
   ]
  },
  {
   "cell_type": "code",
   "execution_count": 8,
   "metadata": {},
   "outputs": [],
   "source": [
    "merged_data = merged_data.rename(columns={'round_x':'round','division_x':'division', 'year_x':'year'}) "
   ]
  },
  {
   "cell_type": "code",
   "execution_count": 9,
   "metadata": {},
   "outputs": [
    {
     "data": {
      "text/plain": [
       "Index(['match_id', 'year', 'round', 'local', 'visitor', 'league_id',\n",
       "       'team1_id_season', 'team2_id_season', 'team1_id', 'team2_id',\n",
       "       'local_abbr', 'visitor_abbr', 'division', 'local_goals',\n",
       "       'visitor_goals', 'result', 'winner', 'points_local', 'wins_local',\n",
       "       'draws_local', 'losses_local', 'gf_local', 'ga_local', 'avg_local',\n",
       "       'pos_local', 'form_local', 'points_visitor', 'wins_visitor',\n",
       "       'draws_visitor', 'losses_visitor', 'gf_visitor', 'ga_visitor',\n",
       "       'avg_visitor', 'pos_visitor', 'form_visitor'],\n",
       "      dtype='object')"
      ]
     },
     "execution_count": 9,
     "metadata": {},
     "output_type": "execute_result"
    }
   ],
   "source": [
    "merged_data.columns"
   ]
  },
  {
   "cell_type": "code",
   "execution_count": 10,
   "metadata": {},
   "outputs": [],
   "source": [
    "teams_id_df = merged_data.drop(['match_id', 'year', 'round', 'visitor', 'league_id',\n",
    "        'team2_id_season', 'team2_id',\n",
    "        'visitor_abbr', 'division', 'local_goals',\n",
    "       'visitor_goals', 'result', 'winner', 'points_local',\n",
    "       'wins_local', 'draws_local', 'losses_local', 'gf_local', 'ga_local',\n",
    "       'avg_local', 'pos_local', 'form_local',\n",
    "       'points_visitor', 'wins_visitor', 'draws_visitor', 'losses_visitor',\n",
    "       'gf_visitor', 'ga_visitor', 'avg_visitor', 'pos_visitor',\n",
    "       'form_visitor'] , axis = 1 )\n"
   ]
  },
  {
   "cell_type": "markdown",
   "metadata": {},
   "source": [
    "At this point it is decided to store the indetifyers of each team together with their abbreviations in a dictionary. These columns will probably be deleted, and it is possible that this information will be needed later if you want to refer to specific team results."
   ]
  },
  {
   "cell_type": "code",
   "execution_count": 11,
   "metadata": {},
   "outputs": [
    {
     "data": {
      "text/html": [
       "<div>\n",
       "<style scoped>\n",
       "    .dataframe tbody tr th:only-of-type {\n",
       "        vertical-align: middle;\n",
       "    }\n",
       "\n",
       "    .dataframe tbody tr th {\n",
       "        vertical-align: top;\n",
       "    }\n",
       "\n",
       "    .dataframe thead th {\n",
       "        text-align: right;\n",
       "    }\n",
       "</style>\n",
       "<table border=\"1\" class=\"dataframe\">\n",
       "  <thead>\n",
       "    <tr style=\"text-align: right;\">\n",
       "      <th></th>\n",
       "      <th>local</th>\n",
       "      <th>team1_id_season</th>\n",
       "      <th>team1_id</th>\n",
       "      <th>local_abbr</th>\n",
       "    </tr>\n",
       "  </thead>\n",
       "  <tbody>\n",
       "    <tr>\n",
       "      <th>0</th>\n",
       "      <td>Villarreal</td>\n",
       "      <td>214625</td>\n",
       "      <td>2716</td>\n",
       "      <td>VIL</td>\n",
       "    </tr>\n",
       "    <tr>\n",
       "      <th>1</th>\n",
       "      <td>R. Sociedad</td>\n",
       "      <td>214631</td>\n",
       "      <td>2120</td>\n",
       "      <td>RSO</td>\n",
       "    </tr>\n",
       "    <tr>\n",
       "      <th>2</th>\n",
       "      <td>Barcelona</td>\n",
       "      <td>214620</td>\n",
       "      <td>429</td>\n",
       "      <td>FCB</td>\n",
       "    </tr>\n",
       "    <tr>\n",
       "      <th>3</th>\n",
       "      <td>Celta</td>\n",
       "      <td>214627</td>\n",
       "      <td>712</td>\n",
       "      <td>CEL</td>\n",
       "    </tr>\n",
       "    <tr>\n",
       "      <th>4</th>\n",
       "      <td>Real Madrid</td>\n",
       "      <td>214621</td>\n",
       "      <td>2107</td>\n",
       "      <td>RMA</td>\n",
       "    </tr>\n",
       "    <tr>\n",
       "      <th>...</th>\n",
       "      <td>...</td>\n",
       "      <td>...</td>\n",
       "      <td>...</td>\n",
       "      <td>...</td>\n",
       "    </tr>\n",
       "    <tr>\n",
       "      <th>4657</th>\n",
       "      <td>Real Oviedo</td>\n",
       "      <td>6382799</td>\n",
       "      <td>2115</td>\n",
       "      <td>ROV</td>\n",
       "    </tr>\n",
       "    <tr>\n",
       "      <th>4658</th>\n",
       "      <td>FC Cartagena</td>\n",
       "      <td>6382787</td>\n",
       "      <td>643</td>\n",
       "      <td>CAR</td>\n",
       "    </tr>\n",
       "    <tr>\n",
       "      <th>4659</th>\n",
       "      <td>UD Logroñés</td>\n",
       "      <td>6382792</td>\n",
       "      <td>1578</td>\n",
       "      <td>UDL</td>\n",
       "    </tr>\n",
       "    <tr>\n",
       "      <th>4660</th>\n",
       "      <td>Rayo Vallecano</td>\n",
       "      <td>6382798</td>\n",
       "      <td>2080</td>\n",
       "      <td>RAY</td>\n",
       "    </tr>\n",
       "    <tr>\n",
       "      <th>4661</th>\n",
       "      <td>Real Sporting</td>\n",
       "      <td>6382800</td>\n",
       "      <td>2125</td>\n",
       "      <td>SPO</td>\n",
       "    </tr>\n",
       "  </tbody>\n",
       "</table>\n",
       "<p>4662 rows × 4 columns</p>\n",
       "</div>"
      ],
      "text/plain": [
       "               local  team1_id_season  team1_id local_abbr\n",
       "0         Villarreal           214625      2716        VIL\n",
       "1        R. Sociedad           214631      2120        RSO\n",
       "2          Barcelona           214620       429        FCB\n",
       "3              Celta           214627       712        CEL\n",
       "4        Real Madrid           214621      2107        RMA\n",
       "...              ...              ...       ...        ...\n",
       "4657     Real Oviedo          6382799      2115        ROV\n",
       "4658    FC Cartagena          6382787       643        CAR\n",
       "4659     UD Logroñés          6382792      1578        UDL\n",
       "4660  Rayo Vallecano          6382798      2080        RAY\n",
       "4661   Real Sporting          6382800      2125        SPO\n",
       "\n",
       "[4662 rows x 4 columns]"
      ]
     },
     "execution_count": 11,
     "metadata": {},
     "output_type": "execute_result"
    }
   ],
   "source": [
    "teams_id_df = teams_id_df.reset_index(drop=True)\n",
    "teams_id_df"
   ]
  },
  {
   "cell_type": "code",
   "execution_count": 12,
   "metadata": {},
   "outputs": [
    {
     "name": "stderr",
     "output_type": "stream",
     "text": [
      "<ipython-input-12-8bd1b334d7b5>:1: UserWarning: DataFrame columns are not unique, some columns will be omitted.\n",
      "  teams_id_dict = teams_id_df.set_index('local').T.to_dict()\n"
     ]
    },
    {
     "data": {
      "text/plain": [
       "{'Villarreal': {'team1_id_season': 6380753,\n",
       "  'team1_id': 2716,\n",
       "  'local_abbr': 'VIL'},\n",
       " 'R. Sociedad': {'team1_id_season': 6380747,\n",
       "  'team1_id': 2120,\n",
       "  'local_abbr': 'RSO'},\n",
       " 'Barcelona': {'team1_id_season': 6380740,\n",
       "  'team1_id': 429,\n",
       "  'local_abbr': 'FCB'},\n",
       " 'Celta': {'team1_id_season': 6380741, 'team1_id': 712, 'local_abbr': 'CEL'},\n",
       " 'Real Madrid': {'team1_id_season': 6380749,\n",
       "  'team1_id': 2107,\n",
       "  'local_abbr': 'RMA'},\n",
       " 'Eibar': {'team1_id_season': 6380742, 'team1_id': 957, 'local_abbr': 'EIB'},\n",
       " 'Valencia': {'team1_id_season': 6380752,\n",
       "  'team1_id': 2647,\n",
       "  'local_abbr': 'VCF'},\n",
       " 'Sevilla': {'team1_id_season': 6380751,\n",
       "  'team1_id': 1102,\n",
       "  'local_abbr': 'SEV'},\n",
       " 'Las Palmas': {'team1_id_season': 6382790,\n",
       "  'team1_id': 2563,\n",
       "  'local_abbr': 'UDL'},\n",
       " 'Getafe': {'team1_id_season': 711285, 'team1_id': 1217, 'local_abbr': 'GET'},\n",
       " 'Levante': {'team1_id_season': 711287, 'team1_id': 1547, 'local_abbr': 'LEV'},\n",
       " 'Espanyol': {'team1_id_season': 6382789,\n",
       "  'team1_id': 998,\n",
       "  'local_abbr': 'ESP'},\n",
       " 'Real Sporting': {'team1_id_season': 6382800,\n",
       "  'team1_id': 2125,\n",
       "  'local_abbr': 'SPO'},\n",
       " 'Atlético': {'team1_id_season': 6380739,\n",
       "  'team1_id': 369,\n",
       "  'local_abbr': 'ATM'},\n",
       " 'Real Betis': {'team1_id_season': 6380748,\n",
       "  'team1_id': 486,\n",
       "  'local_abbr': 'BET'},\n",
       " 'Granada': {'team1_id_season': 6186821,\n",
       "  'team1_id': 4235,\n",
       "  'local_abbr': 'GRA'},\n",
       " 'Athletic': {'team1_id_season': 6380738,\n",
       "  'team1_id': 347,\n",
       "  'local_abbr': 'ATH'},\n",
       " 'Málaga': {'team1_id_season': 6382794, 'team1_id': 1617, 'local_abbr': 'MAL'},\n",
       " 'Rayo Vallecano': {'team1_id_season': 6382798,\n",
       "  'team1_id': 2080,\n",
       "  'local_abbr': 'RAY'},\n",
       " 'Deportivo': {'team1_id_season': 6286459,\n",
       "  'team1_id': 901,\n",
       "  'local_abbr': 'DEP'},\n",
       " 'Osasuna': {'team1_id_season': 6186823,\n",
       "  'team1_id': 1887,\n",
       "  'local_abbr': 'OSA'},\n",
       " 'Leganés': {'team1_id_season': 6382791,\n",
       "  'team1_id': 1535,\n",
       "  'local_abbr': 'LEG'},\n",
       " 'Alavés': {'team1_id_season': 214639, 'team1_id': 137, 'local_abbr': 'ALA'},\n",
       " 'Girona': {'team1_id_season': 6391868, 'team1_id': 1236, 'local_abbr': 'GIR'},\n",
       " 'Real Valladolid': {'team1_id_season': 786063,\n",
       "  'team1_id': 2654,\n",
       "  'local_abbr': 'VAD'},\n",
       " 'Huesca': {'team1_id_season': 6283971, 'team1_id': 1339, 'local_abbr': 'HUE'},\n",
       " 'Mallorca': {'team1_id_season': 6382795,\n",
       "  'team1_id': 1623,\n",
       "  'local_abbr': 'MLL'},\n",
       " 'Elche': {'team1_id_season': 6283322, 'team1_id': 975, 'local_abbr': 'ELC'},\n",
       " 'Cádiz': {'team1_id_season': 6283321, 'team1_id': 603, 'local_abbr': 'CAD'},\n",
       " 'Lugo': {'team1_id_season': 6382793, 'team1_id': 1598, 'local_abbr': 'LUG'},\n",
       " 'Albacete': {'team1_id_season': 6382785,\n",
       "  'team1_id': 140,\n",
       "  'local_abbr': 'ALB'},\n",
       " 'Real Zaragoza': {'team1_id_season': 6390092,\n",
       "  'team1_id': 2136,\n",
       "  'local_abbr': 'ZAR'},\n",
       " 'Tenerife': {'team1_id_season': 6382801,\n",
       "  'team1_id': 2477,\n",
       "  'local_abbr': 'CDT'},\n",
       " 'Numancia': {'team1_id_season': 6283327,\n",
       "  'team1_id': 1832,\n",
       "  'local_abbr': 'NUM'},\n",
       " 'Mirandés': {'team1_id_season': 6382796,\n",
       "  'team1_id': 1699,\n",
       "  'local_abbr': 'MIR'},\n",
       " 'Gimnàstic Tarragona': {'team1_id_season': 6186820,\n",
       "  'team1_id': 1228,\n",
       "  'local_abbr': 'GIM'},\n",
       " 'Bilbao Ath.': {'team1_id_season': 220968,\n",
       "  'team1_id': 348,\n",
       "  'local_abbr': 'ATH'},\n",
       " 'Llagostera': {'team1_id_season': 214643,\n",
       "  'team1_id': 1569,\n",
       "  'local_abbr': 'LLA'},\n",
       " 'Ponferradina': {'team1_id_season': 6382797,\n",
       "  'team1_id': 3287,\n",
       "  'local_abbr': 'PON'},\n",
       " 'Real Oviedo': {'team1_id_season': 6382799,\n",
       "  'team1_id': 2115,\n",
       "  'local_abbr': 'ROV'},\n",
       " 'Córdoba': {'team1_id_season': 6186819, 'team1_id': 831, 'local_abbr': 'CCF'},\n",
       " 'Almería': {'team1_id_season': 6390052, 'team1_id': 183, 'local_abbr': 'ALM'},\n",
       " 'Alcorcón': {'team1_id_season': 6382786, 'team1_id': 64, 'local_abbr': 'ALC'},\n",
       " 'Reus Deportiu': {'team1_id_season': 6186825,\n",
       "  'team1_id': 2152,\n",
       "  'local_abbr': 'REU'},\n",
       " 'UCAM Murcia': {'team1_id_season': 711295,\n",
       "  'team1_id': 6056,\n",
       "  'local_abbr': 'UCA'},\n",
       " 'Sevilla At.': {'team1_id_season': 786065,\n",
       "  'team1_id': 2311,\n",
       "  'local_abbr': 'SEV'},\n",
       " 'Cultural Leonesa': {'team1_id_season': 786053,\n",
       "  'team1_id': 877,\n",
       "  'local_abbr': 'CUL'},\n",
       " 'Barcelona B': {'team1_id_season': 786542,\n",
       "  'team1_id': 430,\n",
       "  'local_abbr': 'FCB'},\n",
       " 'Lorca FC': {'team1_id_season': 786057,\n",
       "  'team1_id': 6062,\n",
       "  'local_abbr': 'LOR'},\n",
       " 'Extremadura': {'team1_id_season': 6283323,\n",
       "  'team1_id': 1026,\n",
       "  'local_abbr': 'EXT'},\n",
       " 'Rayo Majadahonda': {'team1_id_season': 6186830,\n",
       "  'team1_id': 2078,\n",
       "  'local_abbr': 'MAJ'},\n",
       " 'Racing': {'team1_id_season': 6283333, 'team1_id': 2052, 'local_abbr': 'RAC'},\n",
       " 'Fuenlabrada': {'team1_id_season': 6387869,\n",
       "  'team1_id': 1179,\n",
       "  'local_abbr': 'FUE'},\n",
       " 'CD Castellón': {'team1_id_season': 6382788,\n",
       "  'team1_id': 673,\n",
       "  'local_abbr': 'CAS'},\n",
       " 'FC Cartagena': {'team1_id_season': 6382787,\n",
       "  'team1_id': 643,\n",
       "  'local_abbr': 'CAR'},\n",
       " 'UD Logroñés': {'team1_id_season': 6382792,\n",
       "  'team1_id': 1578,\n",
       "  'local_abbr': 'UDL'},\n",
       " 'Sabadell': {'team1_id_season': 6382802,\n",
       "  'team1_id': 2198,\n",
       "  'local_abbr': 'SAB'}}"
      ]
     },
     "execution_count": 12,
     "metadata": {},
     "output_type": "execute_result"
    }
   ],
   "source": [
    "teams_id_dict = teams_id_df.set_index('local').T.to_dict()\n",
    "teams_id_dict"
   ]
  },
  {
   "cell_type": "code",
   "execution_count": 13,
   "metadata": {},
   "outputs": [
    {
     "data": {
      "text/plain": [
       "57"
      ]
     },
     "execution_count": 13,
     "metadata": {},
     "output_type": "execute_result"
    }
   ],
   "source": [
    "len(teams_id_dict)"
   ]
  },
  {
   "cell_type": "code",
   "execution_count": 14,
   "metadata": {},
   "outputs": [
    {
     "data": {
      "text/plain": [
       "{'team1_id_season': 6380749, 'team1_id': 2107, 'local_abbr': 'RMA'}"
      ]
     },
     "execution_count": 14,
     "metadata": {},
     "output_type": "execute_result"
    }
   ],
   "source": [
    "teams_id_dict['Real Madrid']"
   ]
  },
  {
   "cell_type": "markdown",
   "metadata": {},
   "source": [
    "## 2.- Creating target variable "
   ]
  },
  {
   "cell_type": "markdown",
   "metadata": {},
   "source": [
    "The dataset is prepared and cleaned. The target categorical variable is created. This variable will have three categories, each one corresponding to the three possible results of a match depending on the winning team: Local win, Draw and Visitor win.\n",
    "As this is a categorical variable made up of only three categories, it is considered a simpler solution to assign numerical values to these categories. \n",
    "Therefore, from this moment on, the following numbers will be associated with the winner of the match:\n",
    "    \n",
    " #### LOCAL WIN: 0 || DRAW: 1 || VISITOR WIN: 2\n",
    "\n",
    "It is important to remember this information, as it will be maintained throughout the project."
   ]
  },
  {
   "cell_type": "code",
   "execution_count": 15,
   "metadata": {},
   "outputs": [
    {
     "data": {
      "text/plain": [
       "10      0\n",
       "11      1\n",
       "12      0\n",
       "13      0\n",
       "14      0\n",
       "       ..\n",
       "4783    0\n",
       "4784    0\n",
       "4785    2\n",
       "4786    1\n",
       "4787    0\n",
       "Name: match_winner, Length: 4662, dtype: int64"
      ]
     },
     "execution_count": 15,
     "metadata": {},
     "output_type": "execute_result"
    }
   ],
   "source": [
    "def match_winner(col):\n",
    "    if col['team1_id_season'] == col['winner']:\n",
    "        return 0\n",
    "    if col['team2_id_season'] == col['winner']:\n",
    "        return 2\n",
    "    if col['winner'] == 0:\n",
    "        return 1\n",
    "\n",
    "merged_data['match_winner'] = merged_data.apply(lambda col: match_winner (col),axis=1)\n",
    "merged_data['match_winner']"
   ]
  },
  {
   "cell_type": "markdown",
   "metadata": {},
   "source": [
    "### Saving data "
   ]
  },
  {
   "cell_type": "markdown",
   "metadata": {},
   "source": [
    "Once this process is finished, the dataset is saved in two different files. One will be saved for plotting purposes, so some variables that cannot or do not want to be plotted will be removed. The other file will save the dataset intact in order to be able to continue working on it during the feature engineering phase."
   ]
  },
  {
   "cell_type": "code",
   "execution_count": 16,
   "metadata": {},
   "outputs": [],
   "source": [
    "merged_data.to_csv('Cleaned Data')"
   ]
  },
  {
   "cell_type": "code",
   "execution_count": 17,
   "metadata": {
    "scrolled": true
   },
   "outputs": [
    {
     "data": {
      "text/plain": [
       "Index(['match_id', 'year', 'round', 'local', 'visitor', 'league_id',\n",
       "       'team1_id_season', 'team2_id_season', 'team1_id', 'team2_id',\n",
       "       'local_abbr', 'visitor_abbr', 'division', 'local_goals',\n",
       "       'visitor_goals', 'result', 'winner', 'points_local', 'wins_local',\n",
       "       'draws_local', 'losses_local', 'gf_local', 'ga_local', 'avg_local',\n",
       "       'pos_local', 'form_local', 'points_visitor', 'wins_visitor',\n",
       "       'draws_visitor', 'losses_visitor', 'gf_visitor', 'ga_visitor',\n",
       "       'avg_visitor', 'pos_visitor', 'form_visitor', 'match_winner'],\n",
       "      dtype='object')"
      ]
     },
     "execution_count": 17,
     "metadata": {},
     "output_type": "execute_result"
    }
   ],
   "source": [
    "merged_data.columns"
   ]
  },
  {
   "cell_type": "code",
   "execution_count": 18,
   "metadata": {},
   "outputs": [],
   "source": [
    "plotting_data = merged_data.drop(['match_id','local', 'visitor','league_id',\n",
    "       'team1_id_season', 'team2_id_season', 'team1_id', 'team2_id',\n",
    "       'local_abbr', 'visitor_abbr','result', 'form_local', 'form_visitor', 'winner'], axis=1)"
   ]
  },
  {
   "cell_type": "code",
   "execution_count": 19,
   "metadata": {},
   "outputs": [],
   "source": [
    "plotting_data.to_csv('plotting_data')"
   ]
  },
  {
   "cell_type": "code",
   "execution_count": null,
   "metadata": {},
   "outputs": [],
   "source": []
  }
 ],
 "metadata": {
  "kernelspec": {
   "display_name": "Python 3",
   "language": "python",
   "name": "python3"
  },
  "language_info": {
   "codemirror_mode": {
    "name": "ipython",
    "version": 3
   },
   "file_extension": ".py",
   "mimetype": "text/x-python",
   "name": "python",
   "nbconvert_exporter": "python",
   "pygments_lexer": "ipython3",
   "version": "3.8.3"
  }
 },
 "nbformat": 4,
 "nbformat_minor": 4
}
